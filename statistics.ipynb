{
 "cells": [
  {
   "cell_type": "code",
   "execution_count": 5,
   "metadata": {},
   "outputs": [
    {
     "name": "stdout",
     "output_type": "stream",
     "text": [
      "Average Precision: nan\n",
      "Average Recall: nan\n",
      "Average F1 Score: nan\n",
      "Average Count Difference: 0.500000\n",
      "Average Mask IoU: 0.416150\n"
     ]
    }
   ],
   "source": [
    "import csv\n",
    "\n",
    "# 从test_results.csv读取mask IoU数据\n",
    "mask_ious = []\n",
    "with open('../test_results/results.csv', 'r') as f:\n",
    "    reader = csv.DictReader(f)\n",
    "    for row in reader:\n",
    "        if 'mask_iou' in row and row['mask_iou']:\n",
    "            mask_ious.append(float(row['mask_iou']))\n",
    "\n",
    "mask_iou_avg = sum(mask_ious) / len(mask_ious) if mask_ious else 0\n",
    "\n",
    "# 定义get_count_diff函数\n",
    "def get_count_diff(metrics):\n",
    "    total_diff = 0\n",
    "    for m in metrics:\n",
    "        pred_count = m.get('detection_count', 0)\n",
    "        gt_count = m.get('ground_truth_count', 0)\n",
    "        total_diff += abs(pred_count - gt_count)\n",
    "    return total_diff / len(metrics) if metrics else 0\n",
    "\n",
    "# 计算其他metrics.json中的指标\n",
    "total_metrics = {\n",
    "    'precision': [],\n",
    "    'recall': [],\n",
    "    'f1_score': [],\n",
    "    'count_diff': get_count_diff(metrics)\n",
    "}\n",
    "\n",
    "for m in metrics:\n",
    "    if 'precision' in m:\n",
    "        total_metrics['precision'].append(m['precision'])\n",
    "    if 'recall' in m:\n",
    "        total_metrics['recall'].append(m['recall']) \n",
    "    if 'f1_score' in m:\n",
    "        total_metrics['f1_score'].append(m['f1_score'])\n",
    "\n",
    "# 计算平均值\n",
    "avg_metrics = {\n",
    "    'precision': sum(total_metrics['precision']) / len(total_metrics['precision']) if total_metrics['precision'] else float('nan'),\n",
    "    'recall': sum(total_metrics['recall']) / len(total_metrics['recall']) if total_metrics['recall'] else float('nan'),\n",
    "    'f1_score': sum(total_metrics['f1_score']) / len(total_metrics['f1_score']) if total_metrics['f1_score'] else float('nan'),\n",
    "    'count_diff': total_metrics['count_diff'],\n",
    "    'mask_iou': mask_iou_avg\n",
    "}\n",
    "\n",
    "# 打印额外的指标\n",
    "print(f\"Average Precision: {avg_metrics['precision']:.6f}\")\n",
    "print(f\"Average Recall: {avg_metrics['recall']:.6f}\")\n",
    "print(f\"Average F1 Score: {avg_metrics['f1_score']:.6f}\")\n",
    "print(f\"Average Count Difference: {avg_metrics['count_diff']:.6f}\")\n",
    "print(f\"Average Mask IoU: {avg_metrics['mask_iou']:.6f}\")\n"
   ]
  }
 ],
 "metadata": {
  "kernelspec": {
   "display_name": "base",
   "language": "python",
   "name": "python3"
  },
  "language_info": {
   "codemirror_mode": {
    "name": "ipython",
    "version": 3
   },
   "file_extension": ".py",
   "mimetype": "text/x-python",
   "name": "python",
   "nbconvert_exporter": "python",
   "pygments_lexer": "ipython3",
   "version": "3.11.4"
  }
 },
 "nbformat": 4,
 "nbformat_minor": 2
}
